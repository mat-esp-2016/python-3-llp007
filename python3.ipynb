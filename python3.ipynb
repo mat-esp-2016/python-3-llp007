{
 "cells": [
  {
   "cell_type": "markdown",
   "metadata": {},
   "source": [
    "Importando as bibliotecas do phyton"
   ]
  },
  {
   "cell_type": "code",
   "execution_count": 2,
   "metadata": {
    "collapsed": false
   },
   "outputs": [],
   "source": [
    "import numpy as np\n",
    "import matplotlib.pyplot as plt\n",
    "%matplotlib inline\n",
    "import glob"
   ]
  },
  {
   "cell_type": "markdown",
   "metadata": {},
   "source": [
    ". Definindo variáveis com impressão do gráfico\n",
    ". definindo uma função\n",
    ". Solucionando a tarefa\n",
    ". Solucionando a tarefa bônus"
   ]
  },
  {
   "cell_type": "code",
   "execution_count": 3,
   "metadata": {
    "collapsed": true
   },
   "outputs": [],
   "source": [
    "def ano_para_ano_decimal(array_anos, array_meses):\n",
    "    ano_decimal = ((array_meses - 1)/12 + array_anos)\n",
    "    return ano_decimal\n",
    "    \n"
   ]
  },
  {
   "cell_type": "code",
   "execution_count": 5,
   "metadata": {
    "collapsed": false
   },
   "outputs": [
    {
     "data": {
      "text/plain": [
       "array([ 1985.        ,  1985.08333333,  1985.16666667])"
      ]
     },
     "execution_count": 5,
     "metadata": {},
     "output_type": "execute_result"
    }
   ],
   "source": [
    "year_01=np.array([1985,1985,1985])\n",
    "month_01=np.array([1,2,3])\n",
    "ano_para_ano_decimal(year_01,month_01)"
   ]
  },
  {
   "cell_type": "markdown",
   "metadata": {},
   "source": [
    "Definindo uma função matemática para converter os valores de anos e meses em anos e meses decimais;\n",
    "inserindo os valores das variáveis;\n",
    "testando a função matemática criada."
   ]
  },
  {
   "cell_type": "code",
   "execution_count": 9,
   "metadata": {
    "collapsed": true
   },
   "outputs": [],
   "source": [
    "def matrix_2D(dados01):\n",
    "    ano_decimal = ano_para_ano_decimal(dados01[:, 0], dados01[:, 1])\n",
    "    anomalia_temperatura = dados[:,4]\n",
    "    anomalia_10anos = dados [:, 8]\n",
    "    incerteza_10anos = dados [:, 9]\n",
    "    "
   ]
  },
  {
   "cell_type": "code",
   "execution_count": null,
   "metadata": {
    "collapsed": true
   },
   "outputs": [],
   "source": []
  }
 ],
 "metadata": {
  "anaconda-cloud": {},
  "kernelspec": {
   "display_name": "Python [Root]",
   "language": "python",
   "name": "Python [Root]"
  },
  "language_info": {
   "codemirror_mode": {
    "name": "ipython",
    "version": 3
   },
   "file_extension": ".py",
   "mimetype": "text/x-python",
   "name": "python",
   "nbconvert_exporter": "python",
   "pygments_lexer": "ipython3",
   "version": "3.5.2"
  }
 },
 "nbformat": 4,
 "nbformat_minor": 0
}
